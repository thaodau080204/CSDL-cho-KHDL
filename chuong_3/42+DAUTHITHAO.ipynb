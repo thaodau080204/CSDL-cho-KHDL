{
 "cells": [
  {
   "cell_type": "markdown",
   "metadata": {},
   "source": [
    "## Câu 1: viết câu lệnh sql"
   ]
  },
  {
   "cell_type": "code",
   "execution_count": 58,
   "metadata": {},
   "outputs": [],
   "source": [
    "import sqlite3\n",
    "# Câu SQL tính hệ số tương quan Pearson\n",
    "query = \"\"\"\n",
    "SELECT \n",
    "    (COUNT(*) * SUM(A * B) - SUM(A) * SUM(B)) AS numerator,\n",
    "    SQRT(COUNT(*) * SUM(A * A) - SUM(A) * SUM(A)) AS denominator_a,\n",
    "    SQRT(COUNT(*) * SUM(B * B) - SUM(B) * SUM(B)) AS denominator_b\n",
    "FROM data\n",
    "\"\"\""
   ]
  },
  {
   "cell_type": "markdown",
   "metadata": {},
   "source": [
    "## Câu 2: thử nghiệm và chuyển đổi dữ liệu"
   ]
  },
  {
   "cell_type": "code",
   "execution_count": 68,
   "metadata": {},
   "outputs": [
    {
     "name": "stdout",
     "output_type": "stream",
     "text": [
      "   Day Model  Score\n",
      "0   D1     A    8.0\n",
      "1   D1     B    9.0\n",
      "2   D1     C    7.0\n",
      "3   D2     A    7.5\n",
      "4   D2     B    8.5\n",
      "5   D2     C    7.0\n",
      "6   D3     A    6.0\n",
      "7   D3     B    7.0\n",
      "8   D3     C    8.0\n",
      "9   D4     A    7.0\n",
      "10  D4     B    6.0\n",
      "11  D4     C    5.0\n",
      "\n",
      "F-statistic = 0.5495\n",
      "P-value = 0.5954\n"
     ]
    }
   ],
   "source": [
    "from scipy.stats import f_oneway\n",
    "import pandas as pd\n",
    "import statsmodels.api as sm\n",
    "from statsmodels.formula.api import ols\n",
    "\n",
    "# Tạo bảng dữ liệu đầy đủ\n",
    "data = {\n",
    "    'Day': ['D1']*3 + ['D2']*3 + ['D3']*3 + ['D4']*3,\n",
    "    'Model': ['A', 'B', 'C']*4,\n",
    "    'Score': [8, 9, 7, 7.5, 8.5, 7, 6, 7, 8, 7, 6, 5]\n",
    "}\n",
    "df = pd.DataFrame(data)\n",
    "print(df)\n",
    "# Dữ liệu điểm của từng mẫu\n",
    "A1 = [8, 7.5, 6, 7]\n",
    "A2= [9, 8.5, 7, 6]\n",
    "A3= [7, 7, 8, 5]\n",
    "\n",
    "# Kiểm định ANOVA một chiều\n",
    "f_stat, p_value = f_oneway(A1, A2, A3)\n",
    "\n",
    "print(f\"\\nF-statistic = {f_stat:.4f}\")\n",
    "print(f\"P-value = {p_value:.4f}\")\n"
   ]
  },
  {
   "cell_type": "markdown",
   "metadata": {},
   "source": [
    "Kết luận: \n",
    "- P-value = 0.5954 > 0.05 nên không đủ bằng chứng để kết luận có sự khác biệt đáng kể giữa các mẫu ở mức ý nghĩa 5%.\n",
    "- Chưa đủ mạnh để khẳng định các mẫu khác nhau đáng kể, nhưng mẫu B nhìn chung có điểm cao hơn, mẫu C có vẻ yếu hơn."
   ]
  },
  {
   "cell_type": "code",
   "execution_count": 69,
   "metadata": {},
   "outputs": [
    {
     "name": "stdout",
     "output_type": "stream",
     "text": [
      "            sum_sq   df         F    PR(>F)\n",
      "Day       7.000000  3.0  2.488889  0.157555\n",
      "Model     1.541667  2.0  0.822222  0.483522\n",
      "Residual  5.625000  6.0       NaN       NaN\n"
     ]
    }
   ],
   "source": [
    "# Chạy ANOVA hai chiều\n",
    "model = ols('Score ~ Day + Model', data=df).fit()\n",
    "anova_table = sm.stats.anova_lm(model, typ=2)\n",
    "\n",
    "print(anova_table)\n"
   ]
  },
  {
   "cell_type": "markdown",
   "metadata": {},
   "source": [
    "- P-value của Day = 0.157 > 0.05, không có đủ bằng chứng để kết luận điểm số khác biệt theo từng ngày.\n",
    "- P-value của Model = 0.4835 > 0.05, không có đủ bằng chứng để kết luận điểm số khác biệt theo từng mẫu xe.\n",
    "\n",
    "Kết luận: không có yếu tố nào (cả ngày lẫn mẫu xe) ảnh hưởng đáng kể đến kết quả điểm số."
   ]
  },
  {
   "cell_type": "code",
   "execution_count": 72,
   "metadata": {},
   "outputs": [
    {
     "name": "stdout",
     "output_type": "stream",
     "text": [
      "Bảng chéo:\n",
      " Level  Cao  Thấp  Trung bình\n",
      "Model                       \n",
      "A        1     1           2\n",
      "B        2     1           1\n",
      "C        1     1           2\n",
      "\n",
      "Chi-squared = 0.9000\n",
      "P-value = 0.9246\n",
      "Mức độ tự do = 4\n",
      "\n",
      "Tần suất dự kiến:\n",
      " Level       Cao  Thấp  Trung bình\n",
      "Model                            \n",
      "A      1.333333   1.0    1.666667\n",
      "B      1.333333   1.0    1.666667\n",
      "C      1.333333   1.0    1.666667\n",
      " => Không có sự khác biệt đáng kể giữa các mẫu xe (chấp nhận H0).\n"
     ]
    }
   ],
   "source": [
    "# chuyển đổi dữ liệu sang dạng quan hệ\n",
    "from scipy.stats import chi2_contingency\n",
    "# Phân loại điểm số\n",
    "def score_level(score):\n",
    "    if score >= 8:\n",
    "        return 'Cao'\n",
    "    elif score >= 6.5:\n",
    "        return 'Trung bình'\n",
    "    else:\n",
    "        return 'Thấp'\n",
    "\n",
    "df['Level'] = df['Score'].apply(score_level)\n",
    "\n",
    "# Tạo bảng chéo (contingency table)\n",
    "table = pd.crosstab(df['Model'], df['Level'])\n",
    "print(\"Bảng chéo:\\n\", table)\n",
    "\n",
    "# Kiểm định Chi-squared\n",
    "chi2, p, dof, expected = chi2_contingency(table)\n",
    "\n",
    "print(f\"\\nChi-squared = {chi2:.4f}\")\n",
    "print(f\"P-value = {p:.4f}\")\n",
    "print(f\"Mức độ tự do = {dof}\")\n",
    "print(\"\\nTần suất dự kiến:\\n\", pd.DataFrame(expected, index=table.index, columns=table.columns))\n",
    "# Đánh giá kết quả kiểm định\n",
    "if p < 0.05:\n",
    "    print(\" => Có sự khác biệt đáng kể giữa các mẫu xe (bác bỏ H0).\")\n",
    "else:\n",
    "    print(\" => Không có sự khác biệt đáng kể giữa các mẫu xe (chấp nhận H0).\")\n"
   ]
  },
  {
   "cell_type": "markdown",
   "metadata": {},
   "source": [
    "## Câu 3\n",
    "### Bảng flights(departure_time,…) chứa các giá trị thời gian dưới dạng số nguyên (ví dụ: 830 cho 8:30 AM, 1445 cho 2:45 PM). Hãy chuyển đổi các giá trị này thành định dạng thời gian"
   ]
  },
  {
   "cell_type": "code",
   "execution_count": null,
   "metadata": {},
   "outputs": [
    {
     "name": "stdout",
     "output_type": "stream",
     "text": [
      "\n",
      "Kết quả chuyển đổi thời gian\n",
      " departure_time formatted_time\n",
      "            453          04:53\n",
      "            123          01:23\n"
     ]
    }
   ],
   "source": [
    "import sqlite3\n",
    "import pandas as pd\n",
    "\n",
    "# Hàm nhập tay dữ liệu\n",
    "def nhap_du_lieu():\n",
    "    data = []\n",
    "    while True:\n",
    "        user_input = input(\"Nhập thời gian dạng HHMM (gõ 'done' để kết thúc): \")\n",
    "        if user_input.lower() == 'done':\n",
    "            break\n",
    "        try:\n",
    "            t = int(user_input)\n",
    "            if t < 1 or t > 2359:\n",
    "                continue\n",
    "            hour = t // 100\n",
    "            minute = t % 100\n",
    "            if hour >= 24 or minute >= 60:\n",
    "                print(\"Giờ phải < 24 và phút < 60.\")\n",
    "                continue\n",
    "            data.append((t,))\n",
    "        except ValueError:\n",
    "            print(\"Nhập số nguyên hợp lệ (từ 1 đến 2359) hoặc 'done'.\")\n",
    "    return data\n",
    "\n",
    "# Hàm tạo DB và bảng flights\n",
    "def tao_bang(conn, data):\n",
    "    cursor = conn.cursor()\n",
    "    cursor.execute('CREATE TABLE flights (departure_time INTEGER)')\n",
    "    cursor.executemany('INSERT INTO flights (departure_time) VALUES (?)', data)\n",
    "    conn.commit()\n",
    "\n",
    "# Hàm chạy SQL để chuyển định dạng\n",
    "def chuyen_dinh_dang(conn):\n",
    "    query = '''\n",
    "    SELECT\n",
    "      departure_time,\n",
    "      printf('%02d:%02d', departure_time / 100, departure_time % 100) AS formatted_time\n",
    "    FROM flights\n",
    "    '''\n",
    "    return pd.read_sql_query(query, conn)\n",
    "\n",
    "# === Chạy chương trình ===\n",
    "du_lieu = nhap_du_lieu()\n",
    "\n",
    "if du_lieu:\n",
    "    conn = sqlite3.connect(':memory:')\n",
    "    tao_bang(conn, du_lieu)\n",
    "    ket_qua = chuyen_dinh_dang(conn)\n",
    "\n",
    "    print(\"\\nKết quả chuyển đổi thời gian\")\n",
    "    print(ket_qua.to_string(index=False))\n",
    "else:\n",
    "    print(\"Không có dữ liệu nào được nhập.\")\n"
   ]
  },
  {
   "cell_type": "markdown",
   "metadata": {},
   "source": [
    "## Câu 4: \n",
    "### Viết truy vấn SQL để tìm các ngoại lệ bằng cách sử dụng MAD. Một quy tắc chung là xem xét các giá trị ngoại lệ lớn hơn 1,5 lần so với giá trị MAD, trong đó x là số độ lệch chuẩn mà ta coi là có ý nghĩa.\n"
   ]
  },
  {
   "cell_type": "code",
   "execution_count": null,
   "metadata": {},
   "outputs": [
    {
     "name": "stdout",
     "output_type": "stream",
     "text": [
      "\n",
      "Median: 3.0\n",
      "MAD: 1.0\n",
      "\n",
      "Kết quả phát hiện ngoại lệ\n",
      "   data is_outlier\n",
      "0   1.0       True\n",
      "1   2.0      False\n",
      "2   3.0      False\n",
      "3  56.0       True\n",
      "4  45.0       True\n",
      "5   2.0      False\n",
      "6   3.0      False\n"
     ]
    }
   ],
   "source": [
    "import sqlite3\n",
    "import pandas as pd\n",
    "\n",
    "# Bước 1: Nhập tay dữ liệu\n",
    "data = []\n",
    "while True:\n",
    "    user_input = input(\"Nhập giá trị (gõ 'done' để kết thúc): \")\n",
    "    if user_input.lower() == 'done':\n",
    "        break\n",
    "    try:\n",
    "        data.append((float(user_input),))\n",
    "    except ValueError:\n",
    "        print(\"Giá trị không hợp lệ!\")\n",
    "\n",
    "# Bước 2: Tạo SQLite in-memory DB và bảng\n",
    "conn = sqlite3.connect(':memory:')\n",
    "cursor = conn.cursor()\n",
    "cursor.execute('CREATE TABLE flights (data REAL)')\n",
    "cursor.executemany('INSERT INTO flights (data) VALUES (?)', data)\n",
    "conn.commit()\n",
    "\n",
    "# Bước 3: Truy vấn MAD & phát hiện ngoại lệ\n",
    "stats_query = '''\n",
    "WITH median_val AS (\n",
    "  SELECT\n",
    "    (SELECT data FROM flights ORDER BY data LIMIT 1 OFFSET (SELECT COUNT(*) FROM flights) / 2) AS median\n",
    "),\n",
    "abs_dev AS (\n",
    "  SELECT ABS(f.data - m.median) AS abs_deviation\n",
    "  FROM flights f, median_val m\n",
    "),\n",
    "mad_val AS (\n",
    "  SELECT\n",
    "    (SELECT abs_deviation FROM abs_dev ORDER BY abs_deviation LIMIT 1 OFFSET (SELECT COUNT(*) FROM abs_dev) / 2) AS mad\n",
    ")\n",
    "SELECT median_val.median, mad_val.mad FROM median_val, mad_val;\n",
    "'''\n",
    "stats = pd.read_sql_query(stats_query, conn)\n",
    "median = stats['median'][0]\n",
    "mad = stats['mad'][0]\n",
    "\n",
    "print(f\"\\nMedian: {median}\")\n",
    "print(f\"MAD: {mad}\")\n",
    "\n",
    "# Truy vấn dữ liệu với đánh dấu outlier\n",
    "outlier_query = f'''\n",
    "WITH median_val AS (\n",
    "  SELECT {median} AS median\n",
    "),\n",
    "mad_val AS (\n",
    "  SELECT {mad} AS mad\n",
    ")\n",
    "SELECT \n",
    "  f.data,\n",
    "  CASE \n",
    "    WHEN ABS(f.data - median_val.median) > 1.5 * mad_val.mad THEN 'True'\n",
    "    ELSE 'False'\n",
    "  END AS is_outlier\n",
    "FROM flights f, median_val, mad_val;\n",
    "'''\n",
    "# Bước 4: Chạy truy vấn và in kết quả\n",
    "result_df = pd.read_sql_query(outlier_query, conn)\n",
    "print(\"\\nKết quả phát hiện ngoại lệ\")\n",
    "print(result_df)"
   ]
  },
  {
   "cell_type": "markdown",
   "metadata": {},
   "source": [
    "## Câu 5: \n",
    "### Hãy xác định liệu hai người trong bảng Patient(last_name, weight, height) có phải là một người hay không bằng cách sử dụng khoảng cách kết hợp Boolean trên “last_name” và “weight”."
   ]
  },
  {
   "cell_type": "code",
   "execution_count": null,
   "metadata": {},
   "outputs": [
    {
     "name": "stdout",
     "output_type": "stream",
     "text": [
      "\n",
      "Kết quả so sánh các cặp\n",
      "  name1 name2  weight1  weight2  height1  height2 match_result\n",
      "0   Đậu   Đậu     34.0     34.0    134.0    134.0  Same person\n"
     ]
    }
   ],
   "source": [
    "import sqlite3\n",
    "import pandas as pd\n",
    "\n",
    "# Bước 1: Nhập dữ liệu\n",
    "patients = []\n",
    "while True:\n",
    "    last_name = input(\"Họ (last_name): \")\n",
    "    if last_name.lower() == 'done':\n",
    "        break\n",
    "    try:\n",
    "        weight = float(input(\"Cân nặng (kg): \"))\n",
    "        height = float(input(\"Chiều cao (cm): \"))\n",
    "        patients.append((last_name, weight, height))\n",
    "    except ValueError:\n",
    "        print(\"Dữ liệu không hợp lệ! Nhập lại.\")\n",
    "\n",
    "# Bước 2: Tạo SQLite DB và bảng\n",
    "conn = sqlite3.connect(':memory:')\n",
    "cursor = conn.cursor()\n",
    "\n",
    "cursor.execute('''\n",
    "CREATE TABLE Patient (\n",
    "    last_name TEXT,\n",
    "    weight REAL,\n",
    "    height REAL\n",
    ")\n",
    "''')\n",
    "cursor.executemany('INSERT INTO Patient VALUES (?, ?, ?)', patients)\n",
    "conn.commit()\n",
    "\n",
    "# Bước 3: Truy vấn so sánh từng cặp\n",
    "query = '''\n",
    "SELECT\n",
    "  p1.last_name AS name1,\n",
    "  p2.last_name AS name2,\n",
    "  p1.weight AS weight1,\n",
    "  p2.weight AS weight2,\n",
    "  p1.height AS height1,\n",
    "  p2.height AS height2,\n",
    "  CASE\n",
    "    WHEN p1.last_name = p2.last_name\n",
    "         AND ABS(p1.weight - p2.weight) <= 2\n",
    "         AND p1.rowid < p2.rowid\n",
    "    THEN 'Same person'\n",
    "    ELSE 'Different'\n",
    "  END AS match_result\n",
    "FROM Patient p1\n",
    "JOIN Patient p2\n",
    "  ON p1.rowid < p2.rowid\n",
    "'''\n",
    "\n",
    "# Bước 4: In kết quả\n",
    "df = pd.read_sql_query(query, conn)\n",
    "print(\"\\nKết quả so sánh các cặp\")\n",
    "print(df if not df.empty else \"Không có đủ dữ liệu để so sánh.\")\n"
   ]
  }
 ],
 "metadata": {
  "kernelspec": {
   "display_name": "Python 3",
   "language": "python",
   "name": "python3"
  },
  "language_info": {
   "codemirror_mode": {
    "name": "ipython",
    "version": 3
   },
   "file_extension": ".py",
   "mimetype": "text/x-python",
   "name": "python",
   "nbconvert_exporter": "python",
   "pygments_lexer": "ipython3",
   "version": "3.12.3"
  }
 },
 "nbformat": 4,
 "nbformat_minor": 2
}
